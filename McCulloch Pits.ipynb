{
 "cells": [
  {
   "cell_type": "markdown",
   "metadata": {},
   "source": [
    "# 2. Generate ANDNOT function using McCulloch-Pitts neural net by a python  program. "
   ]
  },
  {
   "cell_type": "code",
   "execution_count": 1,
   "metadata": {},
   "outputs": [
    {
     "name": "stdout",
     "output_type": "stream",
     "text": [
      "\n",
      "\n",
      "Weighted Sum :  1\n",
      "A: 1, B: 0, Output: 1\n",
      "\n",
      "\n",
      "Weighted Sum :  0\n",
      "A: 1, B: 1, Output: 0\n",
      "\n",
      "\n",
      "Weighted Sum :  0\n",
      "A: 0, B: 0, Output: 0\n",
      "\n",
      "\n",
      "Weighted Sum :  -1\n",
      "A: 0, B: 1, Output: 0\n"
     ]
    }
   ],
   "source": [
    "def ANDNOT(A, B):\n",
    "  \"\"\"\n",
    "  Simplified ANDNOT function using McCulloch-Pitts neuron\n",
    "  \"\"\"\n",
    "  # Combine weights and inputs into a single list\n",
    "  inputs = [A, B] \n",
    "  x=1 \n",
    "  y=-1 \n",
    "\n",
    "  # Threshold\n",
    "  threshold = 1\n",
    "\n",
    "  # Calculate weighted sum (dot product)\n",
    "  weighted_sum = x*A + y*B\n",
    "  print(\"\\n\")\n",
    "  print(\"Weighted Sum : \",weighted_sum)\n",
    "  \n",
    "\n",
    "  # Apply step function (activation)\n",
    "  output = 1 if weighted_sum >= threshold else 0\n",
    "  \n",
    "  return output\n",
    "  \n",
    "\n",
    "# Test casesS\n",
    "\n",
    "inputs = [(1, 0), (1, 1), (0, 0), (0, 1)]\n",
    "for A, B in inputs:\n",
    "  output = ANDNOT(A, B)\n",
    "  print(f\"A: {A}, B: {B}, Output: {output}\") \n",
    "\n",
    "  "
   ]
  },
  {
   "cell_type": "code",
   "execution_count": null,
   "metadata": {},
   "outputs": [],
   "source": []
  }
 ],
 "metadata": {
  "kernelspec": {
   "display_name": "Python 3 (ipykernel)",
   "language": "python",
   "name": "python3"
  },
  "language_info": {
   "codemirror_mode": {
    "name": "ipython",
    "version": 3
   },
   "file_extension": ".py",
   "mimetype": "text/x-python",
   "name": "python",
   "nbconvert_exporter": "python",
   "pygments_lexer": "ipython3",
   "version": "3.11.0"
  }
 },
 "nbformat": 4,
 "nbformat_minor": 2
}

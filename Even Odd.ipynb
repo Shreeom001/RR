{
 "cells": [
  {
   "cell_type": "markdown",
   "id": "00f2ea2b",
   "metadata": {},
   "source": [
    "# 3. Write a Python Program using Perceptron Neural Network to recognise even and odd numbers. Given numbers are in ASCII form 0 to 9 "
   ]
  },
  {
   "cell_type": "code",
   "execution_count": 18,
   "id": "6d44a561",
   "metadata": {},
   "outputs": [
    {
     "name": "stdout",
     "output_type": "stream",
     "text": [
      "Enter a Number (0-9): 5\n",
      "5  is  odd\n"
     ]
    }
   ],
   "source": [
    "import numpy as np\n",
    "\n",
    "num = int(input(\"Enter a Number (0-9): \"))  # Renamed the variable to 'num' for user input\n",
    "step_function = lambda x: 1 if x >= 0 else 0\n",
    "\n",
    "training_data = [\n",
    "    {'input_data': [1, 1, 0, 0, 0, 0], 'label': 1},  # Renamed the key to 'input_data'\n",
    "    {'input_data': [1, 1, 0, 0, 0, 1], 'label': 0},\n",
    "    {'input_data': [1, 1, 0, 0, 1, 0], 'label': 1},\n",
    "    {'input_data': [1, 1, 0, 1, 1, 1], 'label': 0},\n",
    "    {'input_data': [1, 1, 0, 1, 0, 0], 'label': 1},\n",
    "    {'input_data': [1, 1, 0, 1, 0, 1], 'label': 0},\n",
    "    {'input_data': [1, 1, 0, 1, 1, 0], 'label': 1},\n",
    "    {'input_data': [1, 1, 0, 1, 1, 1], 'label': 0},\n",
    "    {'input_data': [1, 1, 1, 0, 0, 0], 'label': 1},\n",
    "    {'input_data': [1, 1, 1, 0, 0, 1], 'label': 0},\n",
    "]\n",
    "\n",
    "weights = np.array([0, 0, 0, 0, 0, 1])\n",
    "\n",
    "for data in training_data:\n",
    "    input_data = np.array(data['input_data'])  # Renamed the variable to 'input_data'\n",
    "    label = data['label']\n",
    "    output = step_function(np.dot(input_data, weights))\n",
    "    error = label - output\n",
    "    weights += input_data * error\n",
    "\n",
    "input_data = np.array([int(x) for x in list('{0:06b}'.format(num))])\n",
    "output = \"odd\" if step_function(np.dot(input_data, weights)) == 0 else \"even\"\n",
    "print(num, \" is \", output)\n"
   ]
  },
  {
   "cell_type": "markdown",
   "id": "c93948f2",
   "metadata": {},
   "source": [
    "> input_data = np.array([int(x) for x in list('{0:06b}'.format(num))])\n",
    "\n",
    "This line converts the user's input number (num) into a 6-bit binary representation using string formatting ({0:06b}). The binary digits are then converted to integers and stored in the input_data array."
   ]
  },
  {
   "cell_type": "markdown",
   "id": "aa2f9b48",
   "metadata": {},
   "source": [
    "'{0:06b}'.format(num):\n",
    "\n",
    "This part uses string formatting to convert the user's input number (num) into a 6-bit binary string.\n",
    "\n",
    "'{0:}': This is a placeholder for the value to be formatted (which is num in this case).\n",
    "\n",
    ":06b': This specifies the formatting options:\n",
    ":06: This ensures the output string has at least 6 characters. It pads leading zeros if the binary representation of num has less than 6 bits.\n",
    "\n",
    "b: This indicates that the output should be in binary format."
   ]
  },
  {
   "cell_type": "code",
   "execution_count": null,
   "id": "e2a293e6",
   "metadata": {},
   "outputs": [],
   "source": []
  }
 ],
 "metadata": {
  "kernelspec": {
   "display_name": "Python 3 (ipykernel)",
   "language": "python",
   "name": "python3"
  },
  "language_info": {
   "codemirror_mode": {
    "name": "ipython",
    "version": 3
   },
   "file_extension": ".py",
   "mimetype": "text/x-python",
   "name": "python",
   "nbconvert_exporter": "python",
   "pygments_lexer": "ipython3",
   "version": "3.11.0"
  }
 },
 "nbformat": 4,
 "nbformat_minor": 5
}

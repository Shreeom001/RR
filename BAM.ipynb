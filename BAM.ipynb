{
 "cells": [
  {
   "cell_type": "markdown",
   "id": "0a4a08dc",
   "metadata": {},
   "source": [
    "# 5. Write a python program for bidirectional associative memory with two pairs of vectors"
   ]
  },
  {
   "cell_type": "markdown",
   "id": "d767e9da",
   "metadata": {},
   "source": [
    "Bidirectional Associative Memory (BAM) is a type of recurrent neural network designed to store and retrieve associations between two sets of vectors. It functions like an associative memory, where a cue (input vector) evokes a corresponding retrieval vector (output vector) and vice versa."
   ]
  },
  {
   "cell_type": "code",
   "execution_count": 1,
   "id": "ce984765",
   "metadata": {},
   "outputs": [
    {
     "name": "stdout",
     "output_type": "stream",
     "text": [
      "Weight Matrix: \n",
      " [[ 0  0 -2  0]\n",
      " [ 0  0  2  0]]\n",
      "\n",
      "\n",
      "activation values of each element:  [ 2 -2]\n",
      "\n",
      "\n",
      "Input x:  [ 1 -1 -1 -1]\n",
      "output y:  [ 1 -1]\n"
     ]
    }
   ],
   "source": [
    "import numpy as np\n",
    "\n",
    "x1=np.array([-1,-1,-1,1])\n",
    "y1=np.array([1,-1])\n",
    "\n",
    "x2=np.array([-1,-1,1,1])\n",
    "y2=np.array([-1,1])\n",
    "\n",
    "w=np.outer(y1,x1)+np.outer(y2,x2)\n",
    "print(\"Weight Matrix: \\n\",w)\n",
    "print(\"\\n\")\n",
    "\n",
    "\n",
    "def BAM(x):\n",
    "    y=w@x\n",
    "    print(\"activation values of each element: \",y)\n",
    "    print(\"\\n\")\n",
    "    return np.where(y>=0,1,-1)\n",
    "\n",
    "x_test=np.array([1,-1,-1,-1])\n",
    "y_test=BAM(x_test)\n",
    "\n",
    "print(\"Input x: \",x_test)\n",
    "print(\"output y: \",y_test)\n",
    "\n",
    "\n",
    "\n"
   ]
  },
  {
   "cell_type": "markdown",
   "id": "fbd9e60c",
   "metadata": {},
   "source": [
    "How the Output Explains BAM:\n",
    "\n",
    "Retrieval: The input vector x_test is closer to the first association pair (x1, y1). So, the retrieved output y_test resembles y1 ([1, -1]). BAM successfully retrieved an output vector associated with one of the stored pairs."
   ]
  }
 ],
 "metadata": {
  "kernelspec": {
   "display_name": "Python 3 (ipykernel)",
   "language": "python",
   "name": "python3"
  },
  "language_info": {
   "codemirror_mode": {
    "name": "ipython",
    "version": 3
   },
   "file_extension": ".py",
   "mimetype": "text/x-python",
   "name": "python",
   "nbconvert_exporter": "python",
   "pygments_lexer": "ipython3",
   "version": "3.11.0"
  }
 },
 "nbformat": 4,
 "nbformat_minor": 5
}

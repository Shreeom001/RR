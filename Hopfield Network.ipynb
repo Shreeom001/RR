{
 "cells": [
  {
   "cell_type": "markdown",
   "id": "fdf2c5c8",
   "metadata": {},
   "source": [
    "# 8. Write a python program to design a Hopfield Network which stores 4 vectors"
   ]
  },
  {
   "cell_type": "markdown",
   "id": "ada22177",
   "metadata": {},
   "source": [
    "A Hopfield Network is a type of recurrent neural network designed for associative memory. It excels at storing and retrieving patterns (vectors) based on their similarities."
   ]
  },
  {
   "cell_type": "code",
   "execution_count": 52,
   "id": "2b725215",
   "metadata": {},
   "outputs": [
    {
     "name": "stdout",
     "output_type": "stream",
     "text": [
      "input pattern:  [ 1  1 -1 -1]   predicted pattern:  [-1. -1. -1. -1.]\n",
      "input pattern:  [-1 -1  1  1]   predicted pattern:  [-1. -1. -1. -1.]\n",
      "input pattern:  [ 1 -1  1 -1]   predicted pattern:  [-1. -1. -1. -1.]\n",
      "input pattern:  [-1  1 -1  1]   predicted pattern:  [-1. -1. -1. -1.]\n"
     ]
    }
   ],
   "source": [
    "import numpy as np\n",
    "\n",
    "class HopfieldNetwork:\n",
    "    def __init__(self, n_neurons):\n",
    "        self.weights=np.zeros((n_neurons,n_neurons))\n",
    "        \n",
    "    def train(self,patterns):\n",
    "        for pattern in patterns:\n",
    "            self.weights += np.outer(pattern, pattern)\n",
    "            np.fill_diagonal(self.weights, 0)\n",
    "            \n",
    "    def predict(self,pattern):\n",
    "        energy= -0.5 * ((pattern@self.weights)@pattern)\n",
    "        return np.sign((pattern@self.weights) + energy)   #basic activation function (np.sign)\n",
    "    \n",
    "patterns=np.array([\n",
    "            [1,1,-1,-1],\n",
    "            [-1,-1,1,1],\n",
    "            [1,-1,1,-1],\n",
    "            [-1,1,-1,1]\n",
    "])    \n",
    "\n",
    "n_neurons=4\n",
    "network = HopfieldNetwork(n_neurons)\n",
    "network.train(patterns)\n",
    "\n",
    "for pattern in patterns:\n",
    "    prediction=network.predict(pattern)\n",
    "    print(\"input pattern: \",pattern,end='   ')\n",
    "    print(\"predicted pattern: \",prediction)"
   ]
  },
  {
   "cell_type": "markdown",
   "id": "4dfcaa43",
   "metadata": {},
   "source": [
    "The predicted pattern for all inputs is [-1. -1. -1. -1.]. This might seem like a failure, but here's why it makes sense in the context of Hopfield Networks:\n",
    "\n",
    "Partial Matches: The input patterns themselves are close to each other, sharing many elements. The network might not have enough information to distinguish between them definitively and settle on a single specific pattern."
   ]
  }
 ],
 "metadata": {
  "kernelspec": {
   "display_name": "Python 3 (ipykernel)",
   "language": "python",
   "name": "python3"
  },
  "language_info": {
   "codemirror_mode": {
    "name": "ipython",
    "version": 3
   },
   "file_extension": ".py",
   "mimetype": "text/x-python",
   "name": "python",
   "nbconvert_exporter": "python",
   "pygments_lexer": "ipython3",
   "version": "3.11.0"
  }
 },
 "nbformat": 4,
 "nbformat_minor": 5
}
